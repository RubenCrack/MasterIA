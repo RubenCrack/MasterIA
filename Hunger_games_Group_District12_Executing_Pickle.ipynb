{
  "nbformat": 4,
  "nbformat_minor": 0,
  "metadata": {
    "kernelspec": {
      "display_name": "Python 3",
      "language": "python",
      "name": "python3"
    },
    "colab": {
      "name": "Hunger_games_Group_District12_Executing_Pickle.ipynb",
      "provenance": [],
      "collapsed_sections": [],
      "include_colab_link": true
    }
  },
  "cells": [
    {
      "cell_type": "markdown",
      "metadata": {
        "id": "view-in-github",
        "colab_type": "text"
      },
      "source": [
        "<a href=\"https://colab.research.google.com/github/RubenCrack/MasterIA_ML/blob/main/Hunger_games_Group_District12_Executing_Pickle.ipynb\" target=\"_parent\"><img src=\"https://colab.research.google.com/assets/colab-badge.svg\" alt=\"Open In Colab\"/></a>"
      ]
    },
    {
      "cell_type": "markdown",
      "metadata": {
        "id": "XSolgHJTCqEU"
      },
      "source": [
        "##Group: DISTRICT 12"
      ]
    },
    {
      "cell_type": "markdown",
      "metadata": {
        "id": "NL_GpVOtCqEV"
      },
      "source": [
        "### Members:\n",
        "+ **Polina Demidova**\n",
        "+ **Rubén García Zegarra**"
      ]
    },
    {
      "cell_type": "markdown",
      "metadata": {
        "id": "jq2M35KFCqEV"
      },
      "source": [
        "<table>\n",
        "    <td>\n",
        "        <tr>__________________________________________________________________________________________________________________________</tr>\n",
        "    </td>\n",
        "</table>"
      ]
    },
    {
      "cell_type": "markdown",
      "metadata": {
        "id": "0r-p5p2c2Fdz"
      },
      "source": [
        "##Steps:"
      ]
    },
    {
      "cell_type": "markdown",
      "metadata": {
        "id": "IWLe7Run2On0"
      },
      "source": [
        "###1. Download files pickle from :\n",
        "###     https://github.com/RubenCrack/MasterIA_ML\n",
        "###2. Copy files pickle to local device o Colab: \n",
        "####    * decisionTree_model.pickle\n",
        "####    * RandomForest_model.pickle\n",
        "####    * Bagging_model.pickle\n",
        "###3. Enter the parameters\n",
        "###4. Execute the prediction"
      ]
    },
    {
      "cell_type": "markdown",
      "metadata": {
        "id": "L6GSBLGf2Lv6"
      },
      "source": [
        "<table>\n",
        "    <td>\n",
        "        <tr>__________________________________________________________________________________________________________________________</tr>\n",
        "    </td>\n",
        "</table>"
      ]
    },
    {
      "cell_type": "markdown",
      "metadata": {
        "id": "1RiiYR7FCqEV"
      },
      "source": [
        "#### Enter parameters to Predict:"
      ]
    },
    {
      "cell_type": "code",
      "metadata": {
        "colab": {
          "base_uri": "https://localhost:8080/"
        },
        "id": "eXr98LhBCqEV",
        "outputId": "5ac0da62-33d5-4209-dfec-c22652dd2a3e"
      },
      "source": [
        "import pickle\n",
        "import numpy as np\n",
        "\n",
        "print(\"***** Values to introduce *****\")\n",
        "print(\"-------------------------------\")\n",
        "\n",
        "refractive_index = input(\"Enter refractive_index: \")\n",
        "sodium = input(\"Enter sodium: \")\n",
        "magnesium = input(\"Enter magnesium: \")\n",
        "aluminum = input(\"Enter aluminum: \")\n",
        "silicon = input(\"Enter silicon: \")\n",
        "potassium = input(\"Enter potassium: \")\n",
        "calcium = input(\"Enter calcium: \")\n",
        "barium = input(\"Enter barium: \")\n",
        "iron = input(\"Enter iron: \")\n",
        "\n",
        "#Transform to array\n",
        "lista_predecir=np.array([refractive_index,sodium,magnesium,aluminum,silicon,potassium,calcium,barium,iron],ndmin=2)"
      ],
      "execution_count": 1,
      "outputs": [
        {
          "output_type": "stream",
          "text": [
            "***** Values to introduce *****\n",
            "-------------------------------\n",
            "Enter refractive_index: 1.52\n",
            "Enter sodium: 2.58\n",
            "Enter magnesium: 6.8\n",
            "Enter aluminum: 4.15\n",
            "Enter silicon: 2.87\n",
            "Enter potassium: 8.20\n",
            "Enter calcium: 0.57\n",
            "Enter barium: 6.9\n",
            "Enter iron: 3.58\n"
          ],
          "name": "stdout"
        }
      ]
    },
    {
      "cell_type": "markdown",
      "metadata": {
        "id": "VlEKOanUCqEX"
      },
      "source": [
        "###Executing DecisionTree Pickle and predict:"
      ]
    },
    {
      "cell_type": "code",
      "metadata": {
        "colab": {
          "base_uri": "https://localhost:8080/",
          "height": 231
        },
        "id": "gV8kGHMsCqEX",
        "outputId": "5422da01-292e-42d7-ec1c-4a4f7ecfbc6e"
      },
      "source": [
        "#Import our model\n",
        "with open('decisionTree_model.pickle', \"rb\") as file:\n",
        "    DecisionTree_model = pickle.load(file)\n",
        "\n",
        "#Doing predict\n",
        "Predict = DecisionTree_model.predict(lista_predecir)\n",
        "print (\"** Predict type_of_glass ==>: \", Predict)"
      ],
      "execution_count": 2,
      "outputs": [
        {
          "output_type": "error",
          "ename": "FileNotFoundError",
          "evalue": "ignored",
          "traceback": [
            "\u001b[0;31m---------------------------------------------------------------------------\u001b[0m",
            "\u001b[0;31mFileNotFoundError\u001b[0m                         Traceback (most recent call last)",
            "\u001b[0;32m<ipython-input-2-4a710261bd21>\u001b[0m in \u001b[0;36m<module>\u001b[0;34m()\u001b[0m\n\u001b[1;32m      1\u001b[0m \u001b[0;31m#Import our model\u001b[0m\u001b[0;34m\u001b[0m\u001b[0;34m\u001b[0m\u001b[0;34m\u001b[0m\u001b[0m\n\u001b[0;32m----> 2\u001b[0;31m \u001b[0;32mwith\u001b[0m \u001b[0mopen\u001b[0m\u001b[0;34m(\u001b[0m\u001b[0;34m'decisionTree_model.pickle'\u001b[0m\u001b[0;34m,\u001b[0m \u001b[0;34m\"rb\"\u001b[0m\u001b[0;34m)\u001b[0m \u001b[0;32mas\u001b[0m \u001b[0mfile\u001b[0m\u001b[0;34m:\u001b[0m\u001b[0;34m\u001b[0m\u001b[0;34m\u001b[0m\u001b[0m\n\u001b[0m\u001b[1;32m      3\u001b[0m     \u001b[0mDecisionTree_model\u001b[0m \u001b[0;34m=\u001b[0m \u001b[0mpickle\u001b[0m\u001b[0;34m.\u001b[0m\u001b[0mload\u001b[0m\u001b[0;34m(\u001b[0m\u001b[0mfile\u001b[0m\u001b[0;34m)\u001b[0m\u001b[0;34m\u001b[0m\u001b[0;34m\u001b[0m\u001b[0m\n\u001b[1;32m      4\u001b[0m \u001b[0;34m\u001b[0m\u001b[0m\n\u001b[1;32m      5\u001b[0m \u001b[0;31m#Doing predict\u001b[0m\u001b[0;34m\u001b[0m\u001b[0;34m\u001b[0m\u001b[0;34m\u001b[0m\u001b[0m\n",
            "\u001b[0;31mFileNotFoundError\u001b[0m: [Errno 2] No such file or directory: 'decisionTree_model.pickle'"
          ]
        }
      ]
    },
    {
      "cell_type": "markdown",
      "metadata": {
        "id": "AW0MNvlNCqEX"
      },
      "source": [
        "### Executing RandomForest Pickle and predict :"
      ]
    },
    {
      "cell_type": "code",
      "metadata": {
        "colab": {
          "base_uri": "https://localhost:8080/",
          "height": 231
        },
        "id": "wljPWgq1CqEX",
        "outputId": "1b538173-ad59-4f83-d631-b793477892fb"
      },
      "source": [
        "#Import our model\n",
        "with open('RandomForest_model.pickle', \"rb\") as file:\n",
        "    RandomForest_model = pickle.load(file)\n",
        "\n",
        "#Doing predict\n",
        "Predict = RandomForest_model.predict(lista_predecir)\n",
        "print (\"** Predict type_of_glass ==>: \", Predict)"
      ],
      "execution_count": null,
      "outputs": [
        {
          "output_type": "error",
          "ename": "FileNotFoundError",
          "evalue": "ignored",
          "traceback": [
            "\u001b[0;31m---------------------------------------------------------------------------\u001b[0m",
            "\u001b[0;31mFileNotFoundError\u001b[0m                         Traceback (most recent call last)",
            "\u001b[0;32m<ipython-input-14-2527fd240224>\u001b[0m in \u001b[0;36m<module>\u001b[0;34m()\u001b[0m\n\u001b[1;32m      1\u001b[0m \u001b[0;31m#Import our model\u001b[0m\u001b[0;34m\u001b[0m\u001b[0;34m\u001b[0m\u001b[0;34m\u001b[0m\u001b[0m\n\u001b[0;32m----> 2\u001b[0;31m \u001b[0;32mwith\u001b[0m \u001b[0mopen\u001b[0m\u001b[0;34m(\u001b[0m\u001b[0;34m'RandomForest_model.pickle'\u001b[0m\u001b[0;34m,\u001b[0m \u001b[0;34m\"rb\"\u001b[0m\u001b[0;34m)\u001b[0m \u001b[0;32mas\u001b[0m \u001b[0mfile\u001b[0m\u001b[0;34m:\u001b[0m\u001b[0;34m\u001b[0m\u001b[0;34m\u001b[0m\u001b[0m\n\u001b[0m\u001b[1;32m      3\u001b[0m     \u001b[0mRandomForest_model\u001b[0m \u001b[0;34m=\u001b[0m \u001b[0mpickle\u001b[0m\u001b[0;34m.\u001b[0m\u001b[0mload\u001b[0m\u001b[0;34m(\u001b[0m\u001b[0mfile\u001b[0m\u001b[0;34m)\u001b[0m\u001b[0;34m\u001b[0m\u001b[0;34m\u001b[0m\u001b[0m\n\u001b[1;32m      4\u001b[0m \u001b[0;34m\u001b[0m\u001b[0m\n\u001b[1;32m      5\u001b[0m \u001b[0;31m#Doing predict\u001b[0m\u001b[0;34m\u001b[0m\u001b[0;34m\u001b[0m\u001b[0;34m\u001b[0m\u001b[0m\n",
            "\u001b[0;31mFileNotFoundError\u001b[0m: [Errno 2] No such file or directory: 'RandomForest_model.pickle'"
          ]
        }
      ]
    },
    {
      "cell_type": "markdown",
      "metadata": {
        "id": "Si5HaokXCqEX"
      },
      "source": [
        "### Executing Bagging Pickle and predict:"
      ]
    },
    {
      "cell_type": "code",
      "metadata": {
        "colab": {
          "base_uri": "https://localhost:8080/",
          "height": 231
        },
        "id": "YqoEZVuFCqEX",
        "outputId": "31ed1c0f-195f-471c-c433-c32b92c9f7e6"
      },
      "source": [
        "#Import our model\n",
        "with open('Bagging_model.pickle', \"rb\") as file:\n",
        "    Bagging_model = pickle.load(file)\n",
        "\n",
        "#Doing predict\n",
        "Predict = Bagging_model.predict(lista_predecir)\n",
        "print (\"** Predict type_of_glass ==>: \", Predict)"
      ],
      "execution_count": null,
      "outputs": [
        {
          "output_type": "error",
          "ename": "FileNotFoundError",
          "evalue": "ignored",
          "traceback": [
            "\u001b[0;31m---------------------------------------------------------------------------\u001b[0m",
            "\u001b[0;31mFileNotFoundError\u001b[0m                         Traceback (most recent call last)",
            "\u001b[0;32m<ipython-input-15-d12d7b7ff293>\u001b[0m in \u001b[0;36m<module>\u001b[0;34m()\u001b[0m\n\u001b[1;32m      1\u001b[0m \u001b[0;31m#Import our model\u001b[0m\u001b[0;34m\u001b[0m\u001b[0;34m\u001b[0m\u001b[0;34m\u001b[0m\u001b[0m\n\u001b[0;32m----> 2\u001b[0;31m \u001b[0;32mwith\u001b[0m \u001b[0mopen\u001b[0m\u001b[0;34m(\u001b[0m\u001b[0;34m'Bagging_model.pickle'\u001b[0m\u001b[0;34m,\u001b[0m \u001b[0;34m\"rb\"\u001b[0m\u001b[0;34m)\u001b[0m \u001b[0;32mas\u001b[0m \u001b[0mfile\u001b[0m\u001b[0;34m:\u001b[0m\u001b[0;34m\u001b[0m\u001b[0;34m\u001b[0m\u001b[0m\n\u001b[0m\u001b[1;32m      3\u001b[0m     \u001b[0mBagging_model\u001b[0m \u001b[0;34m=\u001b[0m \u001b[0mpickle\u001b[0m\u001b[0;34m.\u001b[0m\u001b[0mload\u001b[0m\u001b[0;34m(\u001b[0m\u001b[0mfile\u001b[0m\u001b[0;34m)\u001b[0m\u001b[0;34m\u001b[0m\u001b[0;34m\u001b[0m\u001b[0m\n\u001b[1;32m      4\u001b[0m \u001b[0;34m\u001b[0m\u001b[0m\n\u001b[1;32m      5\u001b[0m \u001b[0;31m#Doing predict\u001b[0m\u001b[0;34m\u001b[0m\u001b[0;34m\u001b[0m\u001b[0;34m\u001b[0m\u001b[0m\n",
            "\u001b[0;31mFileNotFoundError\u001b[0m: [Errno 2] No such file or directory: 'Bagging_model.pickle'"
          ]
        }
      ]
    },
    {
      "cell_type": "code",
      "metadata": {
        "id": "4cU5GqPHCqEX"
      },
      "source": [
        ""
      ],
      "execution_count": null,
      "outputs": []
    }
  ]
}